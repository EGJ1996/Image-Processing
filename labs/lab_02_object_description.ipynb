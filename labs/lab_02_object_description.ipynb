{
 "cells": [
  {
   "cell_type": "markdown",
   "metadata": {},
   "source": [
    "# [IAPR 2019:][iapr2019] Lab 2 ‒  Object description\n",
    "\n",
    "**Author:** first name and last name  \n",
    "**Due date:** 19.04.2019\n",
    "\n",
    "[iapr2019]: https://github.com/LTS5/iapr-2019"
   ]
  },
  {
   "cell_type": "markdown",
   "metadata": {},
   "source": [
    "## Extract relevant data\n",
    "We first need to extract the `lab-02-data.tar.gz` archive.\n",
    "To this end, we use the [tarfile] module from the Python standard library.\n",
    "\n",
    "[tarfile]: https://docs.python.org/3.6/library/tarfile.html"
   ]
  },
  {
   "cell_type": "code",
   "execution_count": 2,
   "metadata": {},
   "outputs": [],
   "source": [
    "import tarfile\n",
    "import os\n",
    "\n",
    "data_base_path = os.path.join(os.pardir, 'data')\n",
    "data_folder = 'lab-02-data'\n",
    "tar_path = os.path.join(data_base_path, data_folder + '.tar.gz')\n",
    "with tarfile.open(tar_path, mode='r:gz') as tar:\n",
    "    tar.extractall(path=data_base_path)"
   ]
  },
  {
   "cell_type": "code",
   "execution_count": 3,
   "metadata": {},
   "outputs": [],
   "source": [
    "import cv2 as cv\n",
    "from skimage import measure, transform, morphology\n",
    "import numpy as np\n",
    "from scipy import ndimage"
   ]
  },
  {
   "cell_type": "markdown",
   "metadata": {},
   "source": [
    "## Description\n",
    "In the `lab-02-data/` folder, you will find 28x28 grey-scale pictures of handwritten \"0\" and \"1\".\n",
    "These digits have been extracted from MNIST dataset (http://yann.lecun.com/exdb/mnist/).\n",
    "\n",
    "Your goal is to extract, from each of those images, a 2-dimensional feature vector (i.e. 2 features) and to plot them all on a 2D graph.\n",
    "If you have chosen good features, the vectors of the \"0\"'s should nicely cluster in one part of the plane and those of the \"1\"'s in another.\n",
    "\n",
    "Please try first the Fourier Descriptors.\n",
    "You can make several attempts: e.g. with and without invariance to rotation, translation, scaling, etc.\n",
    "You can also for instance rotate the images and assess the invariance in rotation.\n",
    "\n",
    "**Note:** for the Fourier descriptors, the u_k signal has to be constructed by following the contour point after point.\n",
    "Some pre-processing (image binarization, possibly some Mathematical Morphology) might be useful.\n",
    "\n",
    "Then feel free to try other features, the more you try, the better it will be (for you)."
   ]
  },
  {
   "cell_type": "markdown",
   "metadata": {},
   "source": [
    "### 1.1 Data visualization"
   ]
  },
  {
   "cell_type": "code",
   "execution_count": 4,
   "metadata": {},
   "outputs": [
    {
     "data": {
      "image/png": "[encoded data removed]",
      "text/plain": [
       "<Figure size 864x216 with 20 Axes>"
      ]
     },
     "metadata": {
      "needs_background": "light"
     },
     "output_type": "display_data"
    }
   ],
   "source": [
    "import skimage.io\n",
    "import matplotlib.pyplot as plt\n",
    "%matplotlib inline\n",
    "\n",
    "# Load images\n",
    "data_base_path = os.path.join(os.pardir, 'data')\n",
    "data_folder = 'lab-02-data'\n",
    "#  Load zeros\n",
    "zeros_path = os.path.join(data_base_path, data_folder, '0')\n",
    "zeros_names = [nm for nm in os.listdir(zeros_path) if '.png' in nm]  # make sure to only load .png\n",
    "zeros_names.sort()  # sort file names\n",
    "ic = skimage.io.imread_collection([os.path.join(zeros_path, nm) for nm in zeros_names])\n",
    "zeros_im = skimage.io.concatenate_images(ic)\n",
    "#  Load ones\n",
    "ones_path = os.path.join(data_base_path, data_folder, '1')\n",
    "ones_names = [nm for nm in os.listdir(ones_path) if '.png' in nm]  # make sure to only load .png\n",
    "ones_names.sort()  # sort file names\n",
    "ic = skimage.io.imread_collection(([os.path.join(ones_path, nm) for nm in ones_names]))\n",
    "ones_im = skimage.io.concatenate_images(ic)\n",
    "\n",
    "# Plot images\n",
    "fig, axes = plt.subplots(2, len(zeros_im), figsize=(12, 3))\n",
    "for ax, im, nm in zip(axes[0], zeros_im, zeros_names):\n",
    "    ax.imshow(im, cmap='gray')\n",
    "    ax.axis('off')\n",
    "    ax.set_title(nm)\n",
    "for ax, im, nm in zip(axes[1], ones_im, ones_names):\n",
    "    ax.imshow(im, cmap='gray')\n",
    "    ax.axis('off')\n",
    "    ax.set_title(nm)"
   ]
  },
  {
   "cell_type": "markdown",
   "metadata": {},
   "source": [
    "### 1.2 Fourier descriptors\n",
    "Add your implementation and discussion"
   ]
  },
  {
   "cell_type": "code",
   "execution_count": 5,
   "metadata": {},
   "outputs": [],
   "source": [
    "def contours_only(img):\n",
    "    contours = measure.find_contours(img,0)\n",
    "    blank_image = np.zeros((img.shape[0],img.shape[1],3))\n",
    "    #find the longest contour by sorting\n",
    "    lens = []\n",
    "    for i in contours:\n",
    "        lens.append(len(i))\n",
    "    sorted_lens = np.copy(lens)\n",
    "    sorted_lens.sort()\n",
    "    index = lens.index(sorted_lens[-1])\n",
    "    cnt = contours[index]   \n",
    "    fig, ax = plt.subplots()\n",
    "    fig.tight_layout()\n",
    "    ax.imshow(blank_image, cmap=plt.cm.gray)\n",
    "    ax.plot(cnt[:, 1], cnt[:, 0], linewidth=2)\n",
    "    ax.set_axis_off()\n",
    "    plt.savefig(\"tmp.png\", bbox_inches=\"tight\",pad_inches = 0)\n",
    "    contour_img = cv.imread('tmp.png')\n",
    "    # Unpad the new padded pixels\n",
    "    contour_img[contour_img == 255] = 0\n",
    "    return cv.cvtColor(contour_img, cv.COLOR_BGR2GRAY)"
   ]
  },
  {
   "cell_type": "markdown",
   "metadata": {},
   "source": [
    "We found that there was no method of drawing the contours returned from skimage.measure, equivalent to cv2.drawContours. Hence, we decided to draw the contours on a plot, save the plot to a file and read it from the file. We also noticed that the savefig method pads the image with some extra white pixels, so we had to unpad it."
   ]
  },
  {
   "cell_type": "code",
   "execution_count": 6,
   "metadata": {},
   "outputs": [],
   "source": [
    "def findDescriptor(img):    \n",
    "    \"\"\"\n",
    "    Finds the desc_num lowest frequency fourier coefficient\n",
    "    Input:\n",
    "        image (np.array) : Image to perform fourier transform\n",
    "        desc_num (int):  Number of descriptors we want to select\n",
    "    \n",
    "    Returns:\n",
    "        Desc_num lowest frequency fourier coefficients\n",
    "    \"\"\"\n",
    "    contour = measure.find_contours(img,0)[0]\n",
    "    complex_points = contour[:,1]+1j*contour[:,0]\n",
    "    fft_res = np.fft.fft(complex_points)\n",
    "    lowest_freq = [fft_res[2],fft_res[3]]\n",
    "    # Normalize in order to make the coefficients invariable with respect to scaling and translation\n",
    "    norm_coeff = abs(fft_res[1])\n",
    "    return np.array(map(lambda el: abs(el)/norm_coeff,lowest_freq))"
   ]
  },
  {
   "cell_type": "markdown",
   "metadata": {},
   "source": [
    "In the findDescriptor function, we normalize the fourier coefficients in order to nullify the effect ofscaling and the importance of the choice of the starting point, since we know that the ratio $\\frac{f_i}{f_j}$ will remain similar even if the coefficients are scaled. Also, given that the choice of the starting point will affect the phase of all the descriptors, their ratio remain the same. Note that in the code above, we avoid using the first coefficient, since we know that if we translate an image, it will only affect f[0] and we cannot nullify the effect of the translation"
   ]
  },
  {
   "cell_type": "code",
   "execution_count": 7,
   "metadata": {},
   "outputs": [],
   "source": [
    "# Find the descriptors\n",
    "zeros_coeffs = np.array(map(lambda im:findDescriptor(im),zeros_im))\n",
    "ones_coeffs = np.array(map(lambda im: findDescriptor(im),ones_im))"
   ]
  },
  {
   "cell_type": "code",
   "execution_count": 8,
   "metadata": {},
   "outputs": [
    {
     "data": {
      "image/png": "[encoded data removed]",
      "text/plain": [
       "<Figure size 432x288 with 1 Axes>"
      ]
     },
     "metadata": {
      "needs_background": "light"
     },
     "output_type": "display_data"
    }
   ],
   "source": [
    "plt.scatter(zeros_coeffs[:,0], zeros_coeffs[:,1], label='image_zero')\n",
    "plt.scatter(ones_coeffs[:,0], ones_coeffs[:,1], label='image_one')\n",
    "plt.xlabel('x')\n",
    "plt.ylabel('y')\n",
    "plt.legend();"
   ]
  },
  {
   "cell_type": "markdown",
   "metadata": {},
   "source": [
    "We can see from the above plot that excluding some outliers, the fourier coefficients are nicely clustered. Before investigating the outliers, we perform an opening and thresholding in the input images, to remove some of the noise, improve contour detection, and investigate whether this preprocessing will help increase the distance between clusters. "
   ]
  },
  {
   "cell_type": "code",
   "execution_count": 9,
   "metadata": {},
   "outputs": [],
   "source": [
    "def morph_transform(img):\n",
    "    \"\"\"\n",
    "    Performs an opening and thresholding in the input images to remove some of the noise\n",
    "    \"\"\"\n",
    "    kern = cv.getStructuringElement(cv.MORPH_ELLIPSE,(2,2))\n",
    "    #opening = ndimage.grey_opening(img,size = (2,2))\n",
    "    opening = cv.morphologyEx(img, cv.MORPH_OPEN, kern)\n",
    "    ret,thresh = cv.threshold(opening,50,255,cv.THRESH_BINARY)\n",
    "    return thresh"
   ]
  },
  {
   "cell_type": "code",
   "execution_count": 10,
   "metadata": {},
   "outputs": [],
   "source": [
    "# Perform the morphological transform\n",
    "morphed_zeros = np.array(map(lambda im:morph_transform(im),zeros_im))\n",
    "morphed_ones = np.array(map(lambda im:morph_transform(im),ones_im))"
   ]
  },
  {
   "cell_type": "code",
   "execution_count": 11,
   "metadata": {},
   "outputs": [],
   "source": [
    "# Find the descriptors\n",
    "morph_zeros_coeffs = np.array(map(lambda im:findDescriptor(im),morphed_zeros))\n",
    "morph_ones_coeffs = np.array(map(lambda im: findDescriptor(im),morphed_ones))"
   ]
  },
  {
   "cell_type": "code",
   "execution_count": 12,
   "metadata": {},
   "outputs": [
    {
     "data": {
      "image/png": "[encoded data removed]",
      "text/plain": [
       "<Figure size 432x288 with 1 Axes>"
      ]
     },
     "metadata": {
      "needs_background": "light"
     },
     "output_type": "display_data"
    }
   ],
   "source": [
    "plt.scatter(morph_zeros_coeffs[:,0], morph_zeros_coeffs[:,1], label='image_zero')\n",
    "plt.scatter(morph_ones_coeffs[:,0],morph_ones_coeffs[:,1], label='image_one')\n",
    "plt.xlabel('x')\n",
    "plt.ylabel('y')\n",
    "plt.legend();"
   ]
  },
  {
   "cell_type": "markdown",
   "metadata": {},
   "source": [
    "From the image above, we observe that the zeros(ones) are now closer to one another. Hence, performing an opening and thresholding on the image and then normalizing the fourier coefficients has improved our algorithm. However, the outliers still remain. Below, we investigate why these outliers appear."
   ]
  },
  {
   "cell_type": "code",
   "execution_count": 13,
   "metadata": {},
   "outputs": [
    {
     "data": {
      "image/png": "[encoded data removed]",
      "text/plain": [
       "<Figure size 432x288 with 1 Axes>"
      ]
     },
     "metadata": {
      "needs_background": "light"
     },
     "output_type": "display_data"
    }
   ],
   "source": [
    "plt.scatter(morph_zeros_coeffs[:,0], morph_zeros_coeffs[:,1], label='image_zero')\n",
    "plt.scatter(morph_ones_coeffs[:,0],morph_ones_coeffs[:,1], label='image_one')\n",
    "plt.xlabel('x')\n",
    "plt.ylabel('y')\n",
    "plt.legend();"
   ]
  },
  {
   "cell_type": "code",
   "execution_count": 14,
   "metadata": {},
   "outputs": [
    {
     "data": {
      "image/png": "[encoded data removed]",
      "text/plain": [
       "<Figure size 432x288 with 1 Axes>"
      ]
     },
     "metadata": {
      "needs_background": "light"
     },
     "output_type": "display_data"
    }
   ],
   "source": [
    "fig, ax = plt.subplots()\n",
    "ax.scatter(morph_zeros_coeffs[:,0], morph_zeros_coeffs[:,1], label='image_zero')\n",
    "ax.scatter(morph_ones_coeffs[:,0],morph_ones_coeffs[:,1], label='image_one')\n",
    "\n",
    "\n",
    "for i in range(len(morph_zeros_coeffs)):\n",
    "    ax.annotate(i, (morph_zeros_coeffs[i,0], morph_zeros_coeffs[i,1]))\n",
    "\n",
    "for i in range(len(morph_ones_coeffs)):\n",
    "    ax.annotate(i, (morph_ones_coeffs[i,0], morph_ones_coeffs[i,1]))"
   ]
  },
  {
   "cell_type": "code",
   "execution_count": 15,
   "metadata": {},
   "outputs": [
    {
     "data": {
      "image/png": "[encoded data removed]",
      "text/plain": [
       "<Figure size 864x216 with 20 Axes>"
      ]
     },
     "metadata": {
      "needs_background": "light"
     },
     "output_type": "display_data"
    }
   ],
   "source": [
    "fig, axes = plt.subplots(2, len(zeros_im), figsize=(12, 3))\n",
    "for ax, im, nm in zip(axes[0], zeros_im, zeros_names):\n",
    "    ax.imshow(im, cmap='gray')\n",
    "    ax.axis('off')\n",
    "    ax.set_title(nm)\n",
    "for ax, im, nm in zip(axes[1], ones_im, ones_names):\n",
    "    ax.imshow(im, cmap='gray')\n",
    "    ax.axis('off')\n",
    "    ax.set_title(nm)"
   ]
  },
  {
   "cell_type": "markdown",
   "metadata": {},
   "source": [
    "We see that the outliers correspond to the 6th and 10th image. In the images above, we notice that the ones in the 6th and 10th image are quite different from the ones in the rest of the images, because they have a lower tail which is missing in the other ones. Hence, we conclude that the outliers result from a difference in the input images rather than from an incorrect algorithm"
   ]
  },
  {
   "cell_type": "markdown",
   "metadata": {},
   "source": [
    "We now proceed to increasing the input sample size, by rotating our current input and investigating whether the Fourier descriptors are invariant to rotation. We rotate each image by 90, 180, 270 degrees, so we triple the size of our input"
   ]
  },
  {
   "cell_type": "code",
   "execution_count": 16,
   "metadata": {},
   "outputs": [],
   "source": [
    "def rotate_images(im):\n",
    "    im_90 = transform.rotate(im,90,preserve_range = True)\n",
    "    im_180 = transform.rotate(im,180,preserve_range = True)\n",
    "    im_270 = transform.rotate(im,270,preserve_range = True)\n",
    "    return [im,im_90,im_180,im_270]"
   ]
  },
  {
   "cell_type": "code",
   "execution_count": 17,
   "metadata": {},
   "outputs": [],
   "source": [
    "extended_zeros,extended_ones = [],[]\n",
    "for im in zeros_im:\n",
    "    extended_zeros.extend(rotate_images(im))\n",
    "for im in ones_im:\n",
    "    extended_ones.extend(rotate_images(im))"
   ]
  },
  {
   "cell_type": "code",
   "execution_count": 18,
   "metadata": {},
   "outputs": [],
   "source": [
    "# Perform the morphological transform\n",
    "morphed_zeros = np.array(map(lambda im:morph_transform(im),extended_zeros))\n",
    "morphed_ones = np.array(map(lambda im:morph_transform(im),extended_ones))\n",
    "morph_zeros_coeffs = np.array(map(lambda im:findDescriptor(im),morphed_zeros))\n",
    "morph_ones_coeffs = np.array(map(lambda im: findDescriptor(im),morphed_ones))"
   ]
  },
  {
   "cell_type": "code",
   "execution_count": 19,
   "metadata": {},
   "outputs": [
    {
     "data": {
      "image/png": "[encoded data removed]",
      "text/plain": [
       "<Figure size 432x288 with 1 Axes>"
      ]
     },
     "metadata": {
      "needs_background": "light"
     },
     "output_type": "display_data"
    }
   ],
   "source": [
    "plt.scatter(morph_zeros_coeffs[:,0], morph_zeros_coeffs[:,1], label='image_zero')\n",
    "plt.scatter(morph_ones_coeffs[:,0],morph_ones_coeffs[:,1], label='image_one')\n",
    "plt.xlabel('x')\n",
    "plt.ylabel('y')\n",
    "plt.legend();"
   ]
  },
  {
   "cell_type": "code",
   "execution_count": 20,
   "metadata": {},
   "outputs": [
    {
     "data": {
      "image/png": "[encoded data removed]",
      "text/plain": [
       "<Figure size 432x288 with 1 Axes>"
      ]
     },
     "metadata": {
      "needs_background": "light"
     },
     "output_type": "display_data"
    }
   ],
   "source": [
    "fig, ax = plt.subplots()\n",
    "ax.scatter(morph_zeros_coeffs[:,0], morph_zeros_coeffs[:,1], label='image_zero')\n",
    "ax.scatter(morph_ones_coeffs[:,0],morph_ones_coeffs[:,1], label='image_one')\n",
    "\n",
    "\n",
    "for i in range(len(morph_zeros_coeffs)):\n",
    "    ax.annotate(i//4, (morph_zeros_coeffs[i,0], morph_zeros_coeffs[i,1]))\n",
    "\n",
    "for i in range(len(morph_ones_coeffs)):\n",
    "    ax.annotate(i//4, (morph_ones_coeffs[i,0], morph_ones_coeffs[i,1]))"
   ]
  },
  {
   "cell_type": "code",
   "execution_count": 21,
   "metadata": {},
   "outputs": [
    {
     "data": {
      "image/png": "[encoded data removed]",
      "text/plain": [
       "<Figure size 432x288 with 4 Axes>"
      ]
     },
     "metadata": {
      "needs_background": "light"
     },
     "output_type": "display_data"
    }
   ],
   "source": [
    "fig,axes = plt.subplots(2,2)\n",
    "for i in range(4):\n",
    "    axes[i/2][i%2].imshow(morphed_zeros[32+i],cmap = 'gray')"
   ]
  },
  {
   "cell_type": "markdown",
   "metadata": {},
   "source": [
    "We observe that clustering still works quite well. However, we have two new outliers resulting from the rotating 9th image of 0. From the above pictures, we investigate that the reason behind the two new outliers is our morphological transform function, which creates a gap among two of the contours. However, we found out that changing the parameters of our morphological opening would decrease the performance of our algorithm for the other images, so we decided to keep the paramaters the same."
   ]
  },
  {
   "cell_type": "markdown",
   "metadata": {},
   "source": [
    "# 1.3 Additional Methods"
   ]
  },
  {
   "cell_type": "markdown",
   "metadata": {},
   "source": [
    "We now try to use the edit distance method to compute the similarity between the contours of the image. The idea behind this algorithm is that we follow the contour along 8 directions, north, east, west, south, northeast, northwest, southeast and southwest, and label each direction we take with a number (1-8). We then create a string with the direction we take at each point until we reach the starting point using a breadth-first search."
   ]
  },
  {
   "cell_type": "code",
   "execution_count": 22,
   "metadata": {},
   "outputs": [],
   "source": [
    "def editDistance(s1,s2):\n",
    "    \"\"\"\n",
    "    Finds the shorted distance between 2 strings \n",
    "    \"\"\"\n",
    "    dp = {}\n",
    "    m = len(s1)+1 \n",
    "    n = len(s2)+1\n",
    "    for i in range(n):\n",
    "        dp[0,i] = i\n",
    "    for i in range(m):\n",
    "        dp[i,0] = i\n",
    "    \n",
    "    for i in range(1,m):\n",
    "        for j in range(1,n):\n",
    "            if s1[i-1] == s2[j-1]:\n",
    "                dp[i,j] = dp[i-1,j-1]\n",
    "            else:\n",
    "                dp[i,j] = 1 + min(dp[i,j-1],dp[i-1,j],dp[i-1,j-1])\n",
    "    \n",
    "    return dp[i,j]"
   ]
  },
  {
   "cell_type": "code",
   "execution_count": 55,
   "metadata": {},
   "outputs": [],
   "source": [
    "def contour_to_string(img):\n",
    "    dirs_map = {(-1,-1):'1',(-1,0):'2',(-1,1):'3',(0,-1):'4',(0,1):'5',(1,-1):'6',(1,0):'7',(1,1):'8'}\n",
    "    dir_x = [-1,0,1,-1,1,-1,0,1]    \n",
    "    dir_y = [-1,-1,-1,0,0,1,1,1]\n",
    "    # Find starting point\n",
    "    start_point = (0,0)\n",
    "    \n",
    "    for  i in range(img.shape[0]):\n",
    "        for j in range(img.shape[1]):\n",
    "            if img[i,j]  != 0:\n",
    "                start_point = (i,j)\n",
    "                break\n",
    "    \n",
    "    \n",
    "    queue = []\n",
    "    visited = []\n",
    "    string_dir = ''\n",
    "    queue.append(start_point)\n",
    "    iteration = 0\n",
    "    while(len(queue) > 0):\n",
    "        cur_point = queue.pop(0)\n",
    "        if cur_point in visited:\n",
    "            continue\n",
    "        visited.append(cur_point)\n",
    "        \n",
    "        for k in range(len(dir_x)):\n",
    "            #print('x = {0} and y = {1}'.format(x,y))\n",
    "            new_point = (cur_point[0]+dir_x[k],cur_point[1]+dir_y[k])\n",
    "            if new_point[0] >= img.shape[0] or new_point[1] >= img.shape[1]:\n",
    "                continue\n",
    "            \n",
    "            if img[new_point[0],new_point[1]] == 0:\n",
    "                continue\n",
    "            queue.append(new_point)\n",
    "            string_dir+=dirs_map[(dir_x[k],dir_y[k])]\n",
    "        \n",
    "        # Break if the lengths of the strings exceed 200\n",
    "        # Otherwise string could end up being more than 10000 characters long\n",
    "        if len(string_dir) > 2000:\n",
    "            break\n",
    "    return string_dir"
   ]
  },
  {
   "cell_type": "code",
   "execution_count": 25,
   "metadata": {},
   "outputs": [
    {
     "data": {
      "image/png": "[encoded data removed]",
      "text/plain": [
       "<Figure size 432x288 with 1 Axes>"
      ]
     },
     "metadata": {
      "needs_background": "light"
     },
     "output_type": "display_data"
    },
    {
     "data": {
      "image/png": "[encoded data removed]",
      "text/plain": [
       "<Figure size 432x288 with 1 Axes>"
      ]
     },
     "metadata": {
      "needs_background": "light"
     },
     "output_type": "display_data"
    },
    {
     "data": {
      "image/png": "[encoded data removed]",
      "text/plain": [
       "<Figure size 432x288 with 1 Axes>"
      ]
     },
     "metadata": {
      "needs_background": "light"
     },
     "output_type": "display_data"
    },
    {
     "data": {
      "image/png": "[encoded data removed]",
      "text/plain": [
       "<Figure size 432x288 with 1 Axes>"
      ]
     },
     "metadata": {
      "needs_background": "light"
     },
     "output_type": "display_data"
    },
    {
     "data": {
      "image/png": "[encoded data removed]",
      "text/plain": [
       "<Figure size 432x288 with 1 Axes>"
      ]
     },
     "metadata": {
      "needs_background": "light"
     },
     "output_type": "display_data"
    },
    {
     "data": {
      "image/png": "[encoded data removed]",
      "text/plain": [
       "<Figure size 432x288 with 1 Axes>"
      ]
     },
     "metadata": {
      "needs_background": "light"
     },
     "output_type": "display_data"
    },
    {
     "data": {
      "image/png": "[encoded data removed]",
      "text/plain": [
       "<Figure size 432x288 with 1 Axes>"
      ]
     },
     "metadata": {
      "needs_background": "light"
     },
     "output_type": "display_data"
    },
    {
     "data": {
      "image/png": "[encoded data removed]",
      "text/plain": [
       "<Figure size 432x288 with 1 Axes>"
      ]
     },
     "metadata": {
      "needs_background": "light"
     },
     "output_type": "display_data"
    },
    {
     "data": {
      "image/png": "[encoded data removed]",
      "text/plain": [
       "<Figure size 432x288 with 1 Axes>"
      ]
     },
     "metadata": {
      "needs_background": "light"
     },
     "output_type": "display_data"
    },
    {
     "data": {
      "image/png": "[encoded data removed]",
      "text/plain": [
       "<Figure size 432x288 with 1 Axes>"
      ]
     },
     "metadata": {
      "needs_background": "light"
     },
     "output_type": "display_data"
    }
   ],
   "source": [
    "# Get only the contour images of zeros\n",
    "contour_zeros = list(map(lambda im: contours_only(im),zeros_im))"
   ]
  },
  {
   "cell_type": "code",
   "execution_count": 26,
   "metadata": {},
   "outputs": [
    {
     "data": {
      "image/png": "[encoded data removed]",
      "text/plain": [
       "<Figure size 432x288 with 1 Axes>"
      ]
     },
     "metadata": {
      "needs_background": "light"
     },
     "output_type": "display_data"
    },
    {
     "data": {
      "image/png": "[encoded data removed]",
      "text/plain": [
       "<Figure size 432x288 with 1 Axes>"
      ]
     },
     "metadata": {
      "needs_background": "light"
     },
     "output_type": "display_data"
    },
    {
     "data": {
      "image/png": "[encoded data removed]",
      "text/plain": [
       "<Figure size 432x288 with 1 Axes>"
      ]
     },
     "metadata": {
      "needs_background": "light"
     },
     "output_type": "display_data"
    },
    {
     "data": {
      "image/png": "[encoded data removed]",
      "text/plain": [
       "<Figure size 432x288 with 1 Axes>"
      ]
     },
     "metadata": {
      "needs_background": "light"
     },
     "output_type": "display_data"
    },
    {
     "data": {
      "image/png": "[encoded data removed]",
      "text/plain": [
       "<Figure size 432x288 with 1 Axes>"
      ]
     },
     "metadata": {
      "needs_background": "light"
     },
     "output_type": "display_data"
    },
    {
     "data": {
      "image/png": "[encoded data removed]",
      "text/plain": [
       "<Figure size 432x288 with 1 Axes>"
      ]
     },
     "metadata": {
      "needs_background": "light"
     },
     "output_type": "display_data"
    },
    {
     "data": {
      "image/png": "[encoded data removed]",
      "text/plain": [
       "<Figure size 432x288 with 1 Axes>"
      ]
     },
     "metadata": {
      "needs_background": "light"
     },
     "output_type": "display_data"
    },
    {
     "data": {
      "image/png": "[encoded data removed]",
      "text/plain": [
       "<Figure size 432x288 with 1 Axes>"
      ]
     },
     "metadata": {
      "needs_background": "light"
     },
     "output_type": "display_data"
    },
    {
     "data": {
      "image/png": "[encoded data removed]",
      "text/plain": [
       "<Figure size 432x288 with 1 Axes>"
      ]
     },
     "metadata": {
      "needs_background": "light"
     },
     "output_type": "display_data"
    },
    {
     "data": {
      "image/png": "[encoded data removed]",
      "text/plain": [
       "<Figure size 432x288 with 1 Axes>"
      ]
     },
     "metadata": {
      "needs_background": "light"
     },
     "output_type": "display_data"
    }
   ],
   "source": [
    "# Get only the contour images of ones\n",
    "contour_ones = list(map(lambda im: contours_only(im),ones_im))"
   ]
  },
  {
   "cell_type": "code",
   "execution_count": 27,
   "metadata": {},
   "outputs": [],
   "source": [
    "test_cnt = contour_zeros[0]"
   ]
  },
  {
   "cell_type": "code",
   "execution_count": 28,
   "metadata": {},
   "outputs": [
    {
     "name": "stdout",
     "output_type": "stream",
     "text": [
      "CPU times: user 138 ms, sys: 77.3 ms, total: 216 ms\n",
      "Wall time: 69.4 ms\n"
     ]
    }
   ],
   "source": [
    "%%time\n",
    "res = contour_to_string(test_cnt)"
   ]
  },
  {
   "cell_type": "markdown",
   "metadata": {},
   "source": [
    "We tested our breadth-first search algorithm with the first contour image, and we found that its execution time for the first contour image was 314 ms wall time and the above result is the shortest path it takes to explore the whole contour."
   ]
  },
  {
   "cell_type": "markdown",
   "metadata": {},
   "source": [
    "We now use the edit distance algorithm. The algorithm will work in the following manner:\n",
    "-  We select an arbitrary reference image ( It will be changed if we later find that our algorithm performs better with another reference image)\n",
    "-  We build a string for the shortest path it takes to explore the whole contour\n",
    "-  Then, for every other image we do the same\n",
    "-  Use the edit distance algorithm to compare the string of each image with the string of the reference image"
   ]
  },
  {
   "cell_type": "code",
   "execution_count": 51,
   "metadata": {},
   "outputs": [],
   "source": [
    "dir_strings = list(map(lambda im:contour_to_string(im),contour_zeros[1:]))\n",
    "tmp = list(map(lambda im:contour_to_string(im),contour_ones))\n",
    "dir_strings.extend(tmp)"
   ]
  },
  {
   "cell_type": "code",
   "execution_count": 52,
   "metadata": {},
   "outputs": [],
   "source": [
    "reference_string = contour_to_string(contour_zeros[0])"
   ]
  },
  {
   "cell_type": "code",
   "execution_count": 53,
   "metadata": {},
   "outputs": [
    {
     "name": "stdout",
     "output_type": "stream",
     "text": [
      "2003\n"
     ]
    }
   ],
   "source": [
    "print(len(reference_string))"
   ]
  },
  {
   "cell_type": "code",
   "execution_count": 54,
   "metadata": {},
   "outputs": [
    {
     "name": "stdout",
     "output_type": "stream",
     "text": [
      "331\n",
      "200\n",
      "410\n",
      "317\n",
      "392\n",
      "320\n",
      "393\n",
      "191\n",
      "405\n",
      "-----------------\n",
      "424\n",
      "448\n",
      "383\n",
      "414\n",
      "400\n",
      "394\n",
      "400\n",
      "499\n",
      "508\n",
      "363\n"
     ]
    }
   ],
   "source": [
    "for i,dir_str in enumerate(dir_strings):\n",
    "    if i == 9:\n",
    "        print('-----------------')\n",
    "    print(editDistance(reference_string,dir_str))"
   ]
  },
  {
   "cell_type": "markdown",
   "metadata": {},
   "source": [
    "From the above result, we notice that if we set the threshold to 400, we would have 2 false negatives and 3 false positives. Hence, the precision in this case would be $\\frac{15}{18} \\approx 83\\%$ and the recall is $\\frac{15}{17} \\approx 88\\%$"
   ]
  },
  {
   "cell_type": "markdown",
   "metadata": {},
   "source": [
    "Our initial approach was to use BFS to describe the contour, since it is guaranteed that BFS finds the shortest path. However, we noticed that the precision was relatively low and it took a considerable amount of iterations to have a good thresholds to separate ones and zeros. Hence, we decided to use the idea of Freeman chain codes to build a representation of the contours. \n",
    "The basic principle of chain codes is to separately encode each connected component, or \"blob\", in the image.\n",
    "For each such region, a point on the boundary is selected and its coordinates are transmitted. The encoder then moves along the boundary of the region and, at each step, transmits a symbol representing the direction of this movement."
   ]
  },
  {
   "cell_type": "code",
   "execution_count": 73,
   "metadata": {},
   "outputs": [
    {
     "name": "stdout",
     "output_type": "stream",
     "text": [
      "[0, 1, 2, 7, 3, 6, 5, 4]\n"
     ]
    }
   ],
   "source": [
    "directions = [0,1,2,7,3,6,5,4]\n",
    "dir2idx = dict(zip(directions, range(len(directions))))\n",
    "print(directions)"
   ]
  },
  {
   "cell_type": "code",
   "execution_count": 74,
   "metadata": {},
   "outputs": [],
   "source": [
    "def chain_rule(image):\n",
    "    ret,img = cv.threshold(image,70,255,0)\n",
    "    \n",
    "   # Find the coordinates of the first point \n",
    "    for i, row in enumerate(img):\n",
    "        for j, value in enumerate(row):\n",
    "            if value == 255:\n",
    "                start_point = (i, j)\n",
    "                break\n",
    "        else:\n",
    "            continue\n",
    "        break\n",
    "        \n",
    "    # direction of movement: W, NW, N, SW, NE, S, SE, E\n",
    "    directions = [0,1,2,7,3,6,5,4]\n",
    "    \n",
    "    # Create pairing: 0->0, 1->1, 2-> 2, 7->3, 3->4, 6->5, 5->6, 4-> 7\n",
    "    dir2idx = dict(zip(directions, range(len(directions))))\n",
    "    \n",
    "    dir_y = [-1,0,1,-1,1,-1,0,1]\n",
    "    dir_x = [-1,-1,-1,0,0,1,1,1]\n",
    "\n",
    "\n",
    "    border = []\n",
    "    chain = ''\n",
    "    curr_point = start_point\n",
    "    for direction in directions:\n",
    "        idx = dir2idx[direction]\n",
    "        new_point = (start_point[0]+dir_x[idx], start_point[1]+dir_y[idx])\n",
    "        if img[new_point] != 0: # Find a contour point\n",
    "            border.append(new_point)\n",
    "            chain += str(direction)\n",
    "            curr_point = new_point\n",
    "            break\n",
    "\n",
    "    count = 0\n",
    "    while curr_point != start_point:\n",
    "        #figure direction to start search\n",
    "        b_direction = (direction + 5) % 8 \n",
    "        dirs = range(b_direction, 8)\n",
    "        tmp = range(0, b_direction)\n",
    "        dirs.extend(tmp)\n",
    "        for direction in dirs:\n",
    "            idx = dir2idx[direction]\n",
    "            new_point = (curr_point[0]+dir_x[idx], curr_point[1]+dir_y[idx])\n",
    "            if image[new_point] != 0: # If point is in the contour\n",
    "                border.append(new_point)\n",
    "                chain+=str(direction)\n",
    "                curr_point = new_point\n",
    "                break\n",
    "        if count == 1000: break\n",
    "        count += 1\n",
    "    return chain"
   ]
  },
  {
   "cell_type": "code",
   "execution_count": 75,
   "metadata": {},
   "outputs": [],
   "source": [
    "reference_chain = chain_rule(contour_zeros[0])"
   ]
  },
  {
   "cell_type": "code",
   "execution_count": 76,
   "metadata": {},
   "outputs": [],
   "source": [
    "chains = list(map(lambda im:chain_rule(im),contour_zeros[1:]))\n",
    "tmp = list(map(lambda im:chain_rule(im),contour_ones))\n",
    "chains.extend(tmp)"
   ]
  },
  {
   "cell_type": "code",
   "execution_count": 77,
   "metadata": {},
   "outputs": [
    {
     "name": "stdout",
     "output_type": "stream",
     "text": [
      "167\n",
      "132\n",
      "172\n",
      "154\n",
      "163\n",
      "169\n",
      "165\n",
      "187\n",
      "167\n",
      "---------------------\n",
      "205\n",
      "209\n",
      "238\n",
      "229\n",
      "214\n",
      "494\n",
      "211\n",
      "202\n",
      "231\n",
      "494\n"
     ]
    }
   ],
   "source": [
    "for i,ch in enumerate(chains):\n",
    "    if i==9:\n",
    "        print('---------------------')\n",
    "    print(editDistance(ch,reference_chain))"
   ]
  },
  {
   "cell_type": "markdown",
   "metadata": {},
   "source": [
    "We notice that with Freeman chain codes, we get a nice separation of the numbers, where the edit distance of the string representation of two zeros gives an output less than 200 while the edit distance of the string representation of a zero and a one gives an output that is greater than 200."
   ]
  }
 ],
 "metadata": {
  "kernelspec": {
   "display_name": "Python 2",
   "language": "python",
   "name": "python2"
  },
  "language_info": {
   "codemirror_mode": {
    "name": "ipython",
    "version": 2
   },
   "file_extension": ".py",
   "mimetype": "text/x-python",
   "name": "python",
   "nbconvert_exporter": "python",
   "pygments_lexer": "ipython2",
   "version": "2.7.15"
  },
  "widgets": {
   "state": {},
   "version": "1.1.2"
  }
 },
 "nbformat": 4,
 "nbformat_minor": 2
}
